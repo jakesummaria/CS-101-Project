{
  "nbformat": 4,
  "nbformat_minor": 0,
  "metadata": {
    "colab": {
      "provenance": []
    },
    "kernelspec": {
      "name": "python3",
      "display_name": "Python 3"
    },
    "language_info": {
      "name": "python"
    }
  },
  "cells": [
    {
      "cell_type": "code",
      "execution_count": null,
      "metadata": {
        "id": "cw-RGThL4InI"
      },
      "outputs": [],
      "source": [
        "def assemble_genome(dna_list):                                           #This function should accept a list of DNA strings and return the shortest superstring containing all given DNA strings\n",
        "    from itertools import permutations                                   #import permutations from itertools \n",
        "    shortest = None                                                      #declare a variable, shortest, that will contain the shortest superstring\n",
        "    for dna in permutations(dna_list):                                   #loop through all permutations of the dna list with each dna string\n",
        "        sup_str = dna[0]                                                 #declare a variable, sup_str, as the initial dna string in the list\n",
        "        for index in range(len(dna_list)-1):                             #loop through the whole dna_list\n",
        "            overlap_len = overlap(dna[index],dna[index+1],min_len = 1)   #find the overlap length using a separate function called overlap\n",
        "            sup_str += dna[index+1][overlap_len:]                        #append onto the super string the suffix of the string that was overlapped   \n",
        "        if shortest is None or len(sup_str)<len(shortest):               #if the new super string is shorter than the previous shortest superstring, or if shortest has no value \n",
        "            shortest = sup_str                                           #set shortest to be the super string if condition is met\n",
        "    return shortest                                                      #return shortest superstring\n",
        "\n",
        "def overlap(a,b,min_len=3):                        #This function should accept two strings and the minimum length of overlap between the two, and return the longest suffix of 'a' that matches a prefix of 'b'\n",
        "    start = 0                                      #declare a variable, start, to be zero so the loop iterates starting at the beginning of the string\n",
        "    while True:                                    #while loop that continues while the condition is true\n",
        "        start = a.find(b[:min_len],start)          #looks for a suffix of 'b' in 'a'\n",
        "        if start == -1:                            #if no occurences\n",
        "            return 0                               #this returns zero because there is no overlap found\n",
        "        if b.startswith(a[start:]):                #startswith checks to see if a string starts with the specified prefix\n",
        "            return len(a)-start                    #returns how much overlap there is\n",
        "        start += 1                                 #move to the right of the string by one\n",
        "\n",
        "def perfect_match(rna):                      #This function should accept an RNA string and return the total possible number of matchings of nucleotide bases.\n",
        "    matches = 0                              #declare a variable, matches, to keep track of all possible perfect matches\n",
        "    g = rna.count('G')                       #count the number of 'G' characters in the string\n",
        "    c = rna.count('C')                       #count the number of 'C' characters in the string\n",
        "    a = rna.count('A')                       #count the number of 'A' characters in the string\n",
        "    u = rna.count('U')                       #count the number of 'U' characters in the string\n",
        "    if g==c and a==u:                        #check if pairing is possible\n",
        "        factGC = 1                           #use factorials to find number of matches\n",
        "        factAU = 1                           \n",
        "        for index in range(g):               #range can be either g or c because they are the same value\n",
        "            factGC *= index+1\n",
        "        for index in range(a):               #range can be either a or u because they are the same value\n",
        "            factAU *= index+1\n",
        "        matches = factAU * factGC            #set matches to be the product of the AU and GC factorials\n",
        "    return matches                           #return the number of perfect matches"
      ]
    }
  ]
}