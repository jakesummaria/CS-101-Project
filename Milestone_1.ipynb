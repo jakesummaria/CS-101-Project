{
  "nbformat": 4,
  "nbformat_minor": 0,
  "metadata": {
    "colab": {
      "provenance": []
    },
    "kernelspec": {
      "name": "python3",
      "display_name": "Python 3"
    },
    "language_info": {
      "name": "python"
    }
  },
  "cells": [
    {
      "cell_type": "code",
      "source": [
        "def s(dna):                                         # This function should accept as argument a string representing a DNA sequence and return a dictionary representing the number of times each nucleotide A, C, G, or T occur in the DNA string, in that order.\n",
        "    count = {'A':0,'C':0,'G':0,'T':0}               # dictionary that keeps track of the number of times each nucleotide occur in the string; initial values set to zero\n",
        "    dna = dna.upper()                               # dna changed from lowercase to uppercase letters\n",
        "    count['A'] = dna.count('A')                     # counts the number of times 'A' occurs in the dna string\n",
        "    count['C'] = dna.count('C')                     # counts the number of times 'C' occurs in the dna string\n",
        "    count['G'] = dna.count('G')                     # counts the number of times 'G' occurs in the dna string\n",
        "    count['T'] = dna.count('T')                     # counts the number of times 'T' occurs in the dna string\n",
        "    return count                                    # returns the count dicionary containing the updated and correct values\n",
        "\n",
        "\n",
        "def dna2rna(dna):                                   # This function accepts a string representing a DNA sequence and return the transcribed RNA string.\n",
        "    rna = ''                                        # new string, rna, declared\n",
        "    for symbol in dna:                              # loops through each index in the dna string\n",
        "        if symbol == 'A':                           # if the value at this index is 'A', 'A' is added to the rna string\n",
        "            rna = rna + 'A'\n",
        "        elif symbol == 'T':                         # if the value at this index is 'T', 'U' is added to the rna string\n",
        "            rna = rna + 'U'                          \n",
        "        elif symbol == 'C':                         # if the value at this index is 'C', 'C' is added to the rna string\n",
        "            rna = rna + 'C'\n",
        "        elif symbol == 'G':                         # if the value at this index is 'G', 'G' is added to the rna string\n",
        "            rna = rna + 'G'\n",
        "    return rna                                      # returns the rna string\n",
        "\n",
        "\n",
        "def reverse_complement(dna):                        # This function accepts a string representing a DNA sequence and returns the reverse complement as a new string.\n",
        "    reverse = ''                                    # this is the string that will contain the reverse complement\n",
        "    index = len(dna)-1                              # index is set to the length of the dna minus one, which is the last index of the string\n",
        "    while index >= 0:                               # the loop will iterate through the string backwards, starting from the last index                   \n",
        "        if dna[index] == 'A':                       # if the value at this index is 'A', the reverse complement, 'T', is added to the reverse string\n",
        "            reverse += 'T'\n",
        "        elif dna[index] == 'T':                     # if the value at this index is 'T', the reverse complement, 'A', is added to the reverse string\n",
        "            reverse += 'A'\n",
        "        elif dna[index] == 'C':                     # if the value at this index is 'C', the reverse complement, 'G', is added to the reverse string\n",
        "            reverse += 'G'\n",
        "        elif dna[index] == 'G':                     # if the value at this index is 'G', the reverse complement, 'C', is added to the reverse string\n",
        "            reverse += 'C'\n",
        "        index -= 1                                  # index is updated to move one position to the left in the string\n",
        "    return reverse                                  # return the string containing the reversed complements\n",
        "\n",
        "\n",
        "def rna2codon(rna):                                                                                                   # This function accepts a string representing an RNA sequence and return the corresponding amino acid string.\n",
        "    genetic_code = {'UUU': 'F', 'UUC': 'F', 'UUA': 'L', 'UUG': 'L', 'CUU': 'L', 'CUC': 'L', 'CUA': 'L', 'CUG': 'L',   # dictionary containing possible rna and amino acid combinations\n",
        "                    'AUU': 'I', 'AUC': 'I', 'AUA': 'I', 'AUG': 'M', 'GUU': 'V', 'GUC': 'V', 'GUA': 'V', 'GUG': 'V',\n",
        "                    'UCU': 'S', 'UCC': 'S', 'UCA': 'S', 'UCG': 'S', 'CCU': 'P', 'CCC': 'P', 'CCA': 'P', 'CCG': 'P',\n",
        "                    'ACU': 'T', 'ACC': 'T', 'ACA': 'T', 'ACG': 'T', 'GCU': 'A', 'GCC': 'A', 'GCA': 'A', 'GCG': 'A',\n",
        "                    'UAU': 'Y', 'UAC': 'Y', 'UAA': '*', 'UAG': '*', 'CAU': 'H', 'CAC': 'H', 'CAA': 'Q', 'CAG': 'Q',\n",
        "                    'AAU': 'N', 'AAC': 'N', 'AAA': 'K', 'AAG': 'K', 'GAU': 'D', 'GAC': 'D', 'GAA': 'E', 'GAG': 'E',\n",
        "                    'UGU': 'C', 'UGC': 'C', 'UGA': '*', 'UGG': 'W', 'CGU': 'R', 'CGC': 'R', 'CGA': 'R', 'CGG': 'R',\n",
        "                    'AGU': 'S', 'AGC': 'S', 'AGA': 'R', 'AGG': 'R', 'GGU': 'G', 'GGC': 'G', 'GGA': 'G', 'GGG': 'G'}\n",
        "    \n",
        "    amino = ''                                                                                                        # new string, amino, declared\n",
        "    i = 0                                                                                                             # new int, i, declared with value of zero\n",
        "    while i < len(rna):                                                                                               # while the value of i is less than the length of the rna string\n",
        "        if rna[i:i+3] in genetic_code:                                                                                # checks to see if three consecutive indexes in rna represent a value found in the genetic code dictionary\n",
        "            if genetic_code[rna[i:i+3]] == '*':                                                                       # the current loop would break if there is no corresponding amino acid string to the rna string\n",
        "                break\n",
        "            else:\n",
        "                amino = amino + genetic_code[rna[i:i+3]]                                                              # otherwise, the corresponding amino acid string is added to the amino string\n",
        "                i = i+3                                                                                               # i increases in increments of 3 due to each rna sequence having a length of 3\n",
        "        else:\n",
        "            return 'Invalid'                                                                                          # if there is no corresponding rna sequence found in the genetic code dictionary, 'Invalid' is returned\n",
        "    return amino                                                                                                      # otherwise, returns the amino string\n",
        "\n",
        "\n",
        "def hamming_dist(dna1,dna2):                    # This function should accept two strings representing DNA sequences of equal length and return the Hamming distance between the two strings as an integer. \n",
        "    diff = 0                                    # declare a new int, diff, that will keep track of the number of differences between the two dna sequences, with an initial value of zero\n",
        "    for index in range(len(dna1)):              # loop through the entirety of both dna sequences\n",
        "        if dna1[index] != dna2[index]:          # check to see if the values of both sequences are not the same at the given index\n",
        "            diff += 1                           # if the values are not the same, increase diff by one\n",
        "    return diff                                 # returns the number of differences\n"
      ],
      "metadata": {
        "id": "EH0AdGZTyH1G"
      },
      "execution_count": null,
      "outputs": []
    }
  ]
}